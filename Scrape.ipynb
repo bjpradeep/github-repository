{
 "cells": [
  {
   "cell_type": "code",
   "execution_count": 1,
   "metadata": {},
   "outputs": [],
   "source": [
    "from bs4 import BeautifulSoup"
   ]
  },
  {
   "cell_type": "code",
   "execution_count": 36,
   "metadata": {},
   "outputs": [],
   "source": [
    "import requests\n",
    "import csv"
   ]
  },
  {
   "cell_type": "code",
   "execution_count": 48,
   "metadata": {},
   "outputs": [
    {
     "data": {
      "text/plain": [
       "32"
      ]
     },
     "execution_count": 48,
     "metadata": {},
     "output_type": "execute_result"
    }
   ],
   "source": [
    "r = requests.get(\"https://en.wikipedia.org/wiki/List_of_postal_codes_of_Canada:_M\")\n",
    "\n",
    "scrape = open(\"scrape.csv\",\"w\")\n",
    "csv_writer = csv.writer(scrape)\n",
    "csv_writer.writerow(['Postcode','Borough','Neighbourhood'])"
   ]
  },
  {
   "cell_type": "markdown",
   "metadata": {},
   "source": [
    "Below code is calling the wiki page to retrieve html in preparation of dataframe using beautiful soup & requests modules"
   ]
  },
  {
   "cell_type": "raw",
   "metadata": {},
   "source": [
    "soup = BeautifulSoup(r.text,\"html.parser\")\n",
    "\n",
    "table = soup.find(\"table\", {'class' : 'wikitable'})\n",
    "\n",
    "tbs = table.tbody.findAll(\"tr\")\n",
    "\n",
    "ar = []\n",
    "\n",
    "for tb in tbs :\n",
    "    ths = tb.findAll(\"td\")\n",
    "    ar = []\n",
    "    for th in ths :\n",
    "        ar.append(th.text)\n",
    "    csv_writer.writerow(ar)  \n",
    "\n",
    "scrape.close()    \n",
    "        \n",
    "    "
   ]
  },
  {
   "cell_type": "markdown",
   "metadata": {},
   "source": [
    "Below code is to scrape the wikipedia page to get the data needed"
   ]
  }
 ],
 "metadata": {
  "kernelspec": {
   "display_name": "Python 3",
   "language": "python",
   "name": "python3"
  },
  "language_info": {
   "codemirror_mode": {
    "name": "ipython",
    "version": 3
   },
   "file_extension": ".py",
   "mimetype": "text/x-python",
   "name": "python",
   "nbconvert_exporter": "python",
   "pygments_lexer": "ipython3",
   "version": "3.6.7"
  }
 },
 "nbformat": 4,
 "nbformat_minor": 4
}
