{
 "cells": [
  {
   "cell_type": "markdown",
   "metadata": {},
   "source": [
    "Capstone Project - The Battle of Neighborhoods"
   ]
  },
  {
   "cell_type": "markdown",
   "metadata": {},
   "source": [
    "Introduction\n",
    "\n",
    "\n",
    "I'm a resident of New York and always wanted to explore the restaurant business around New York. I am interested to know which cuisine based restaurant would be successful and in which neighbourhood."
   ]
  },
  {
   "cell_type": "markdown",
   "metadata": {},
   "source": [
    "Data\n",
    "\n",
    "\n",
    "New York City data:\n",
    "        https://cocl.us/new_york_dataset\n",
    "            \n",
    "Neighbourhood Exploration API:\n",
    "         Fousquare API\n",
    "        \n",
    "Visualising the boundaries:\n",
    "         https://data.cityofnewyork.us/City-Government/Borough-Boundaries/tqmj-j8zm\n",
    "            \n",
    "            \n"
   ]
  },
  {
   "cell_type": "markdown",
   "metadata": {},
   "source": [
    "Approach\n",
    "\n",
    "\n",
    "Collect the new york city data from https://cocl.us/new_york_dataset\n",
    "Using FourSquare API we will find all venues for each neighborhood.\n",
    "Find rating , tips and like count for each Resturants using FourSquare API.\n",
    "Using rating for each resturant type, we will sort that data.\n",
    "Visualize the Ranking of neighborhoods using folium library(python)\n"
   ]
  }
 ],
 "metadata": {
  "kernelspec": {
   "display_name": "Python 3",
   "language": "python",
   "name": "python3"
  },
  "language_info": {
   "codemirror_mode": {
    "name": "ipython",
    "version": 3
   },
   "file_extension": ".py",
   "mimetype": "text/x-python",
   "name": "python",
   "nbconvert_exporter": "python",
   "pygments_lexer": "ipython3",
   "version": "3.6.7"
  }
 },
 "nbformat": 4,
 "nbformat_minor": 4
}
